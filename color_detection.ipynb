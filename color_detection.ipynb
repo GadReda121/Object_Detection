{
  "nbformat": 4,
  "nbformat_minor": 0,
  "metadata": {
    "colab": {
      "provenance": [],
      "authorship_tag": "ABX9TyNKGVK9RU6FnJ3q1fvFZDDH",
      "include_colab_link": true
    },
    "kernelspec": {
      "name": "python3",
      "display_name": "Python 3"
    },
    "language_info": {
      "name": "python"
    }
  },
  "cells": [
    {
      "cell_type": "markdown",
      "metadata": {
        "id": "view-in-github",
        "colab_type": "text"
      },
      "source": [
        "<a href=\"https://colab.research.google.com/github/GadReda121/Object_Detection/blob/Color-Detection/color_detection.ipynb\" target=\"_parent\"><img src=\"https://colab.research.google.com/assets/colab-badge.svg\" alt=\"Open In Colab\"/></a>"
      ]
    },
    {
      "cell_type": "code",
      "source": [
        "pip install opencv-python scikit-learn"
      ],
      "metadata": {
        "colab": {
          "base_uri": "https://localhost:8080/"
        },
        "id": "biiy33bR4z-H",
        "outputId": "a77a5a6b-915f-4685-9d10-6d2f0490b8ce"
      },
      "execution_count": null,
      "outputs": [
        {
          "output_type": "stream",
          "name": "stdout",
          "text": [
            "Requirement already satisfied: opencv-python in /usr/local/lib/python3.10/dist-packages (4.8.0.76)\n",
            "Requirement already satisfied: scikit-learn in /usr/local/lib/python3.10/dist-packages (1.2.2)\n",
            "Requirement already satisfied: numpy>=1.21.2 in /usr/local/lib/python3.10/dist-packages (from opencv-python) (1.23.5)\n",
            "Requirement already satisfied: scipy>=1.3.2 in /usr/local/lib/python3.10/dist-packages (from scikit-learn) (1.11.3)\n",
            "Requirement already satisfied: joblib>=1.1.1 in /usr/local/lib/python3.10/dist-packages (from scikit-learn) (1.3.2)\n",
            "Requirement already satisfied: threadpoolctl>=2.0.0 in /usr/local/lib/python3.10/dist-packages (from scikit-learn) (3.2.0)\n"
          ]
        }
      ]
    },
    {
      "cell_type": "code",
      "source": [
        "pip install webcolors"
      ],
      "metadata": {
        "colab": {
          "base_uri": "https://localhost:8080/"
        },
        "id": "mT6P9loH-6-b",
        "outputId": "e02631fd-594a-44c6-bc60-e16f80623207"
      },
      "execution_count": 4,
      "outputs": [
        {
          "output_type": "stream",
          "name": "stdout",
          "text": [
            "Requirement already satisfied: webcolors in /usr/local/lib/python3.10/dist-packages (1.13)\n"
          ]
        }
      ]
    },
    {
      "cell_type": "code",
      "source": [
        "import numpy as np\n",
        "from sklearn.cluster import KMeans\n",
        "from skimage import io\n",
        "import webcolors\n",
        "\n",
        "# Load the image from a URL\n",
        "image_url = \"/content/photo_2022-10-10_02-00-01.jpg\"\n",
        "image = io.imread(image_url)\n",
        "\n",
        "# Reshape the image to be a list of pixels\n",
        "pixels = image.reshape(-1, 3)\n",
        "\n",
        "# Determine the number of clusters (colors) you want to detect\n",
        "num_clusters = 1  # We are detecting the dominant color\n",
        "\n",
        "# Perform K-means clustering\n",
        "kmeans = KMeans(n_clusters=num_clusters, random_state=0)\n",
        "kmeans.fit(pixels)\n",
        "\n",
        "# Get the RGB value of the cluster center (the dominant color)\n",
        "dominant_color_rgb = kmeans.cluster_centers_[0]\n",
        "\n",
        "# Convert RGB to a hex color\n",
        "hex_color = '#{0:02X}{1:02X}{2:02X}'.format(int(dominant_color_rgb[0]), int(dominant_color_rgb[1]), int(dominant_color_rgb[2]))\n",
        "\n",
        "# Define a list of primary colors and their RGB values\n",
        "primary_colors = {\n",
        "    \"Red\": (255, 0, 0),\n",
        "    \"Green\": (0, 255, 0),\n",
        "    \"Blue\": (0, 0, 255),\n",
        "    \"Yellow\": (255, 255, 0),\n",
        "    \"Cyan\": (0, 255, 255),\n",
        "    \"Magenta\": (255, 0, 255),\n",
        "    \"Orange\": (255, 165, 0),\n",
        "    \"Purple\": (128, 0, 128),\n",
        "    \"Pink\": (255, 192, 203),\n",
        "    \"Brown\": (139, 69, 19),\n",
        "    \"Gray\": (128, 128, 128),\n",
        "    \"Black\": (0, 0, 0),\n",
        "    \"White\": (255, 255, 255),\n",
        "    \"Gold\": (255, 215, 0),\n",
        "    \"Silver\": (192, 192, 192),\n",
        "    \"Bronze\": (205, 127, 50),\n",
        "    \"Lavender\": (230, 230, 250),\n",
        "    \"Turquoise\": (64, 224, 208),\n",
        "    \"Lime\": (0, 255, 0),\n",
        "    \"Navy\": (0, 0, 128),\n",
        "    \"Maroon\": (128, 0, 0),\n",
        "    \"Teal\": (0, 128, 128),\n",
        "    \"Olive\": (128, 128, 0),\n",
        "    \"Aqua\": (0, 128, 128),\n",
        "    \"Fuchsia\": (255, 0, 128),\n",
        "    \"Indigo\": (75, 0, 130),\n",
        "    \"Beige\": (245, 245, 220),\n",
        "    \"Violet\": (238, 130, 238),\n",
        "    \"Crimson\": (220, 20, 60),\n",
        "    \"SlateGray\": (112, 128, 144),\n",
        "    # Add more primary colors as needed\n",
        "}\n",
        "\n",
        "# Use webcolors to find the color name for the hex color\n",
        "try:\n",
        "    color_name = webcolors.hex_to_name(hex_color)\n",
        "    print(f\"The dominant color in the image is {color_name}.\")\n",
        "except ValueError:\n",
        "    print(f\"The dominant color in the image is a hex color: {hex_color}.\")\n",
        "\n",
        "# Calculate the Euclidean distance to find the nearest primary color\n",
        "def euclidean_distance(color1, color2):\n",
        "    return sum((c1 - c2) ** 2 for c1, c2 in zip(color1, color2)) ** 0.5\n",
        "\n",
        "closest_primary_color = min(primary_colors, key=lambda color: euclidean_distance(primary_colors[color], dominant_color_rgb))\n",
        "\n",
        "print(f\"The nearest primary color to the hex color is {closest_primary_color}.\")"
      ],
      "metadata": {
        "id": "rAdXHmFZ_eC0",
        "colab": {
          "base_uri": "https://localhost:8080/"
        },
        "outputId": "28628d22-4424-4e12-a3ea-459c1af1a8a4"
      },
      "execution_count": 172,
      "outputs": [
        {
          "output_type": "stream",
          "name": "stderr",
          "text": [
            "/usr/local/lib/python3.10/dist-packages/sklearn/cluster/_kmeans.py:870: FutureWarning: The default value of `n_init` will change from 10 to 'auto' in 1.4. Set the value of `n_init` explicitly to suppress the warning\n",
            "  warnings.warn(\n"
          ]
        },
        {
          "output_type": "stream",
          "name": "stdout",
          "text": [
            "The dominant color in the image is a hex color: #FEFEFE.\n",
            "The nearest primary color to the hex color is White.\n"
          ]
        }
      ]
    },
    {
      "cell_type": "code",
      "source": [
        "import numpy as np\n",
        "from sklearn.cluster import KMeans\n",
        "from skimage import io\n",
        "import webcolors\n",
        "\n",
        "# Load the image from a local file\n",
        "image_path = \"/content/photo_2022-10-10_02-00-01.jpg\"\n",
        "image = io.imread(image_path)\n",
        "\n",
        "# Reshape the image to be a list of pixels\n",
        "pixels = image.reshape(-1, 3)\n",
        "\n",
        "# Determine the number of clusters (colors) you want to detect\n",
        "num_clusters = 5  # You can adjust this number based on your needs\n",
        "\n",
        "# Perform K-means clustering\n",
        "kmeans = KMeans(n_clusters=num_clusters, random_state=0)\n",
        "kmeans.fit(pixels)\n",
        "\n",
        "# Get the RGB values of the cluster centers (the dominant colors)\n",
        "dominant_colors_rgb = kmeans.cluster_centers_\n",
        "\n",
        "# Convert RGB to hex colors\n",
        "hex_colors = ['#{:02X}{:02X}{:02X}'.format(int(color[0]), int(color[1]), int(color[2])) for color in dominant_colors_rgb]\n",
        "\n",
        "# Find the color names for the hex colors and their nearest primary colors\n",
        "color_names = []\n",
        "nearest_primary_colors = []\n",
        "\n",
        "for hex_color in hex_colors:\n",
        "    try:\n",
        "        color_name = webcolors.hex_to_name(hex_color)\n",
        "        color_names.append(color_name)\n",
        "    except ValueError:\n",
        "        color_names.append(f\"Hex: {hex_color}\")\n",
        "\n",
        "    # Calculate the Euclidean distance to find the nearest primary color\n",
        "    dominant_color_rgb = [int(hex_color[i:i+2], 16) for i in (1, 3, 5)]\n",
        "    closest_primary_color = min(primary_colors, key=lambda color: euclidean_distance(primary_colors[color], dominant_color_rgb))\n",
        "    nearest_primary_colors.append(closest_primary_color)\n",
        "\n",
        "for i in range(len(hex_colors)):\n",
        "    print(f\"Dominant color {i+1}: {color_names[i]}\")\n",
        "    print(f\"Nearest primary color {i+1}: {nearest_primary_colors[i]}\")\n",
        "\n",
        "outPut_colors = (' and ').join(nearest_primary_colors)\n",
        "print(f\"The dominant color(s) in the image is/are: {outPut_colors}\")\n"
      ],
      "metadata": {
        "colab": {
          "base_uri": "https://localhost:8080/"
        },
        "id": "PIiHAudVVTvi",
        "outputId": "3465c20d-f390-453c-d1b2-1f86b6ccaabf"
      },
      "execution_count": 253,
      "outputs": [
        {
          "output_type": "stream",
          "name": "stderr",
          "text": [
            "/usr/local/lib/python3.10/dist-packages/sklearn/cluster/_kmeans.py:870: FutureWarning: The default value of `n_init` will change from 10 to 'auto' in 1.4. Set the value of `n_init` explicitly to suppress the warning\n",
            "  warnings.warn(\n"
          ]
        },
        {
          "output_type": "stream",
          "name": "stdout",
          "text": [
            "Dominant color 1: Hex: #FEFEFE\n",
            "Nearest primary color 1: White\n",
            "Dominant color 2: Hex: #02ADEE\n",
            "Nearest primary color 2: Cyan\n",
            "Dominant color 3: black\n",
            "Nearest primary color 3: Black\n",
            "Dominant color 4: Hex: #97D2E5\n",
            "Nearest primary color 4: Silver\n",
            "Dominant color 5: Hex: #6B6B6B\n",
            "Nearest primary color 5: Gray\n",
            "The dominant color(s) in the image is/are: White and Cyan and Black and Silver and Gray\n"
          ]
        }
      ]
    },
    {
      "cell_type": "code",
      "source": [
        "pip install googletrans==4.0.0-rc1"
      ],
      "metadata": {
        "colab": {
          "base_uri": "https://localhost:8080/"
        },
        "id": "v2bYgcMbjML8",
        "outputId": "9eed0bc9-7c96-4b52-eee1-ef72daa5a07b"
      },
      "execution_count": 147,
      "outputs": [
        {
          "output_type": "stream",
          "name": "stdout",
          "text": [
            "Requirement already satisfied: googletrans==4.0.0-rc1 in /usr/local/lib/python3.10/dist-packages (4.0.0rc1)\n",
            "Requirement already satisfied: httpx==0.13.3 in /usr/local/lib/python3.10/dist-packages (from googletrans==4.0.0-rc1) (0.13.3)\n",
            "Requirement already satisfied: certifi in /usr/local/lib/python3.10/dist-packages (from httpx==0.13.3->googletrans==4.0.0-rc1) (2023.7.22)\n",
            "Requirement already satisfied: hstspreload in /usr/local/lib/python3.10/dist-packages (from httpx==0.13.3->googletrans==4.0.0-rc1) (2023.1.1)\n",
            "Requirement already satisfied: sniffio in /usr/local/lib/python3.10/dist-packages (from httpx==0.13.3->googletrans==4.0.0-rc1) (1.3.0)\n",
            "Requirement already satisfied: chardet==3.* in /usr/local/lib/python3.10/dist-packages (from httpx==0.13.3->googletrans==4.0.0-rc1) (3.0.4)\n",
            "Requirement already satisfied: idna==2.* in /usr/local/lib/python3.10/dist-packages (from httpx==0.13.3->googletrans==4.0.0-rc1) (2.10)\n",
            "Requirement already satisfied: rfc3986<2,>=1.3 in /usr/local/lib/python3.10/dist-packages (from httpx==0.13.3->googletrans==4.0.0-rc1) (1.5.0)\n",
            "Requirement already satisfied: httpcore==0.9.* in /usr/local/lib/python3.10/dist-packages (from httpx==0.13.3->googletrans==4.0.0-rc1) (0.9.1)\n",
            "Requirement already satisfied: h11<0.10,>=0.8 in /usr/local/lib/python3.10/dist-packages (from httpcore==0.9.*->httpx==0.13.3->googletrans==4.0.0-rc1) (0.9.0)\n",
            "Requirement already satisfied: h2==3.* in /usr/local/lib/python3.10/dist-packages (from httpcore==0.9.*->httpx==0.13.3->googletrans==4.0.0-rc1) (3.2.0)\n",
            "Requirement already satisfied: hyperframe<6,>=5.2.0 in /usr/local/lib/python3.10/dist-packages (from h2==3.*->httpcore==0.9.*->httpx==0.13.3->googletrans==4.0.0-rc1) (5.2.0)\n",
            "Requirement already satisfied: hpack<4,>=3.0 in /usr/local/lib/python3.10/dist-packages (from h2==3.*->httpcore==0.9.*->httpx==0.13.3->googletrans==4.0.0-rc1) (3.0.0)\n"
          ]
        }
      ]
    },
    {
      "cell_type": "code",
      "source": [
        "from googletrans import Translator"
      ],
      "metadata": {
        "id": "3EY1wMC6k0Y8"
      },
      "execution_count": 196,
      "outputs": []
    },
    {
      "cell_type": "code",
      "source": [
        "# Translate the color name to Arabic\n",
        "translator = Translator()\n",
        "translated_color = translator.translate(outPut_colors, src='en', dest='ar')\n",
        "output_color = translated_color.text\n",
        "print(translated_color)"
      ],
      "metadata": {
        "colab": {
          "base_uri": "https://localhost:8080/"
        },
        "id": "XRjvmIBNk7nR",
        "outputId": "fe423b01-fb4b-48ae-bab9-01659c9cef19"
      },
      "execution_count": 254,
      "outputs": [
        {
          "output_type": "stream",
          "name": "stdout",
          "text": [
            "Translated(src=en, dest=ar, text=أبيض وسماوي وسوداء وفضي ورمادي, pronunciation='abyad wasamawiun wasawda' wafadiyun waramadi, extra_data=\"{'confiden...\")\n"
          ]
        }
      ]
    },
    {
      "cell_type": "code",
      "source": [
        "pip install gTTS"
      ],
      "metadata": {
        "colab": {
          "base_uri": "https://localhost:8080/"
        },
        "id": "PyRtDdzwk9VR",
        "outputId": "e49dd44a-217a-4e60-8000-509f8b35045d"
      },
      "execution_count": 222,
      "outputs": [
        {
          "output_type": "stream",
          "name": "stdout",
          "text": [
            "Requirement already satisfied: gTTS in /usr/local/lib/python3.10/dist-packages (2.4.0)\n",
            "Requirement already satisfied: requests<3,>=2.27 in /usr/local/lib/python3.10/dist-packages (from gTTS) (2.31.0)\n",
            "Requirement already satisfied: click<8.2,>=7.1 in /usr/local/lib/python3.10/dist-packages (from gTTS) (8.1.7)\n",
            "Requirement already satisfied: charset-normalizer<4,>=2 in /usr/local/lib/python3.10/dist-packages (from requests<3,>=2.27->gTTS) (3.3.2)\n",
            "Requirement already satisfied: idna<4,>=2.5 in /usr/local/lib/python3.10/dist-packages (from requests<3,>=2.27->gTTS) (2.10)\n",
            "Requirement already satisfied: urllib3<3,>=1.21.1 in /usr/local/lib/python3.10/dist-packages (from requests<3,>=2.27->gTTS) (2.0.7)\n",
            "Requirement already satisfied: certifi>=2017.4.17 in /usr/local/lib/python3.10/dist-packages (from requests<3,>=2.27->gTTS) (2023.7.22)\n"
          ]
        }
      ]
    },
    {
      "cell_type": "code",
      "source": [
        "import subprocess\n",
        "from gtts import gTTS\n",
        "from IPython.display import Audio, display"
      ],
      "metadata": {
        "id": "Ss89t0AdlGqT"
      },
      "execution_count": 255,
      "outputs": []
    },
    {
      "cell_type": "code",
      "source": [
        "# Convert the detected objects to speech\n",
        "tts = gTTS(\"اللون هو ال\" + output_color, lang='ar')"
      ],
      "metadata": {
        "id": "hIUSazS-lcGU"
      },
      "execution_count": 256,
      "outputs": []
    },
    {
      "cell_type": "code",
      "source": [
        "tts.save(\"color.mp3\")"
      ],
      "metadata": {
        "id": "5Vqu2EO8llnM"
      },
      "execution_count": 257,
      "outputs": []
    },
    {
      "cell_type": "code",
      "source": [
        "# Display the spoken result in the Colab notebook\n",
        "display(Audio(\"color.mp3\"))"
      ],
      "metadata": {
        "colab": {
          "base_uri": "https://localhost:8080/",
          "height": 76
        },
        "id": "qLhYWNw4loB0",
        "outputId": "f1cf1f8e-99ae-4fb4-c124-b07dbdcbcaed"
      },
      "execution_count": 258,
      "outputs": [
        {
          "output_type": "display_data",
          "data": {
            "text/plain": [
              "<IPython.lib.display.Audio object>"
            ],
            "text/html": [
              "\n",
              "                <audio  controls=\"controls\" >\n",
              "                    <source src=\"data:audio/mpeg;base64,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\" type=\"audio/mpeg\" />\n",
              "                    Your browser does not support the audio element.\n",
              "                </audio>\n",
              "              "
            ]
          },
          "metadata": {}
        }
      ]
    },
    {
      "cell_type": "code",
      "source": [],
      "metadata": {
        "id": "D1tRxwZibaMJ"
      },
      "execution_count": null,
      "outputs": []
    }
  ]
}